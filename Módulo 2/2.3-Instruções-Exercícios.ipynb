{
 "cells": [
  {
   "cell_type": "markdown",
   "metadata": {
    "id": "1pCTdOHonv5f"
   },
   "source": [
    "# Módulo 2\n",
    "\n",
    "## 2.3 Instruções e Expressões\n",
    "\n",
    "### Q1\n",
    "\n",
    "Faça um programa que armazene o valor de 20 reais de salário por hora de um trabalhador, e o número de 40 horas trabalhadas na semana. Com essas informações, calcule e imprima:\n",
    "- Salário semanal bruto\n",
    "- Valor descontado por semana INSS (10% do bruto)\n",
    "- Valor descontado por semana pelo sindicato (5% do bruto)\n",
    "- Salário semanal líquido (Bruto - Descontos)"
   ]
  },
  {
   "cell_type": "code",
   "execution_count": 12,
   "metadata": {},
   "outputs": [
    {
     "name": "stdout",
     "output_type": "stream",
     "text": [
      "Salário semanal bruto             : 800\n",
      "Valor descontado por semana INSS  : 80.0\n",
      "Valor descontado pelo sindicato é : 40.0\n",
      "Salário líquido é                 : 680.0\n"
     ]
    }
   ],
   "source": [
    "## Escreva e execute seu código aqui\n",
    "#Valores Fixos\n",
    "salario_por_hora  = 20\n",
    "horas_trabalhadas = 40\n",
    "\n",
    "\n",
    "#Cálculos\n",
    "salario_semanal_bruto      = salario_por_hora * horas_trabalhadas\n",
    "desconto_inss_por_semana   = salario_semanal_bruto * 0.10\n",
    "desconto_sindicato_semanal = salario_semanal_bruto * 0.05\n",
    "salario_semanal_liquido    = salario_semanal_bruto - (desconto_inss_por_semana + desconto_sindicato_semanal)\n",
    "\n",
    "#Imprime Resultados\n",
    "print(\"Salário semanal bruto             :\", salario_semanal_bruto)\n",
    "print(\"Valor descontado por semana INSS  :\", desconto_inss_por_semana)\n",
    "print(\"Valor descontado pelo sindicato é :\", desconto_sindicato_semanal)\n",
    "print(\"Salário líquido é                 :\", salario_semanal_liquido)"
   ]
  },
  {
   "cell_type": "markdown",
   "metadata": {
    "id": "pIxKX9J2oGZ1"
   },
   "source": [
    "### Q2\n",
    "\n",
    "Altere o programa anterior para a partir dos valores de horas trabalhadas por semana e salário por hora, calcular **em somente duas instruções**:\n",
    "- Salário semanal bruto\n",
    "- Salário semanal líquido com todos os descontos. Para a segunda instrução, realize todos os cálculos aritméticos em uma expressão composta.\n"
   ]
  },
  {
   "cell_type": "code",
   "execution_count": 13,
   "metadata": {
    "id": "pAHw9Xf9oGoi"
   },
   "outputs": [
    {
     "name": "stdout",
     "output_type": "stream",
     "text": [
      "O Salário Bruto é  : 800\n",
      "O Salário Líquido é: 680.0\n"
     ]
    }
   ],
   "source": [
    "## Escreva e execute seu código aqui\n",
    "#Instrução 1: Cálculos\n",
    "salario_hora     = 20\n",
    "horas_por_semana = 40\n",
    "salario_bruto    = salario_hora * horas_por_semana\n",
    "salario_liquido  = salario_semanal_bruto - 0.1 * salario_bruto - 0.05 * salario_bruto\n",
    "\n",
    "\n",
    "#Imprime Resultados\n",
    "print(\"O Salário Bruto é  :\", salario_bruto)\n",
    "print(\"O Salário Líquido é:\", salario_liquido)\n",
    "\n",
    "\n"
   ]
  },
  {
   "cell_type": "markdown",
   "metadata": {
    "id": "m8tlHRuWpBOB"
   },
   "source": [
    "### Q3\n",
    "\n",
    "Você está desenvolvendo um software de conversão de moeda e precisa calcular o valor equivalente em yuan chinês a partir de uma quantia em real. A taxa de câmbio é de 0.69 BRL (real) para 1 CNY (yuan). Escreva um programa que define em uma variável uma quantia em reais (BRL) e calcula o valor equivalente em yuan (CNY). Imprima o resultado."
   ]
  },
  {
   "cell_type": "code",
   "execution_count": 17,
   "metadata": {
    "id": "2bPw7uF6oeL9"
   },
   "outputs": [
    {
     "name": "stdout",
     "output_type": "stream",
     "text": [
      "Valor em Yuan é: 200.00000000000003\n"
     ]
    }
   ],
   "source": [
    "## Escreva e execute seu código aqui\n",
    "#Valor em reais e taxa de câmbio\n",
    "valor_brl = 138\n",
    "taxa_de_cambio = 0.69\n",
    "\n",
    "#Conversão\n",
    "valor_cny = valor_brl/taxa_de_cambio\n",
    "\n",
    "#Resultado\n",
    "print(\"Valor em Yuan é:\", valor_cny)"
   ]
  },
  {
   "cell_type": "markdown",
   "metadata": {
    "id": "-Na3ltDCp74A"
   },
   "source": [
    "### Q4\n",
    "\n",
    "Você é um treinador de corrida e deseja calcular a velocidade média que um atleta precisa manter para completar a Maratona Internacional de São Silvestre, que tem uma distância total de 42.195 km. A fórmula para calcular a velocidade média ($v\\_media$) é dada por $v\\_media = \\frac{distancia}{tempo}$ . Escreva um programa em Python para calcular a velocidade média necessária para completar a maratona em 3 horas.\n",
    "\n",
    "**Calcule e imprima o resultado em metros/segundo**, ou seja, converta a distância de quilômetros para metros ($metro = \\frac{km}{1000}$) e a velocidade de horas para segundos $(segundo = \\frac{hora}{3600})$."
   ]
  },
  {
   "cell_type": "code",
   "execution_count": 25,
   "metadata": {
    "id": "Bn6l8kcSrE4L"
   },
   "outputs": [
    {
     "name": "stdout",
     "output_type": "stream",
     "text": [
      "A velocidade média necessária (m/s) é: 3.906944444444444\n"
     ]
    }
   ],
   "source": [
    "## Escreva e execute seu código 2\n",
    "#Dados da maratona\n",
    "distancia_km   = 42.195\n",
    "tempo_horas    = 3 \n",
    "\n",
    "#Conversão\n",
    "distancia_m    = distancia_km * 1.000\n",
    "tempo_segundos = tempo_horas *3.600\n",
    "\n",
    "#Velocidade média em m/s\n",
    "v_media        = distancia_m / tempo_segundos\n",
    "\n",
    "#Resultado\n",
    "print(\"A velocidade média necessária (m/s) é:\", v_media)\n",
    "\n"
   ]
  },
  {
   "cell_type": "code",
   "execution_count": null,
   "metadata": {},
   "outputs": [],
   "source": []
  }
 ],
 "metadata": {
  "colab": {
   "provenance": []
  },
  "kernelspec": {
   "display_name": "Python 3 (ipykernel)",
   "language": "python",
   "name": "python3"
  },
  "language_info": {
   "codemirror_mode": {
    "name": "ipython",
    "version": 3
   },
   "file_extension": ".py",
   "mimetype": "text/x-python",
   "name": "python",
   "nbconvert_exporter": "python",
   "pygments_lexer": "ipython3",
   "version": "3.13.5"
  }
 },
 "nbformat": 4,
 "nbformat_minor": 4
}
